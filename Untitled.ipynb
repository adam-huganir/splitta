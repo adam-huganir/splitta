{
 "cells": [
  {
   "cell_type": "code",
   "execution_count": 2,
   "metadata": {
    "execution": {
     "iopub.execute_input": "2020-07-06T18:51:32.950591Z",
     "iopub.status.busy": "2020-07-06T18:51:32.950460Z",
     "iopub.status.idle": "2020-07-06T18:51:32.953041Z",
     "shell.execute_reply": "2020-07-06T18:51:32.952686Z",
     "shell.execute_reply.started": "2020-07-06T18:51:32.950577Z"
    }
   },
   "outputs": [],
   "source": [
    "import gc\n",
    "import os\n",
    "import re\n",
    "import json\n",
    "\n",
    "import urllib3\n",
    "from tqdm.autonotebook import tqdm\n",
    "\n",
    "import spacy\n",
    "import pandas as pd\n",
    "from nltk import sent_tokenize\n",
    "from redshred import SimpleAPI\n",
    "\n",
    "from dataclasses import dataclass\n",
    "\n",
    "urllib3.disable_warnings()"
   ]
  },
  {
   "cell_type": "code",
   "execution_count": 4,
   "metadata": {
    "execution": {
     "iopub.execute_input": "2020-07-06T18:51:41.235319Z",
     "iopub.status.busy": "2020-07-06T18:51:41.235162Z",
     "iopub.status.idle": "2020-07-06T18:51:41.238564Z",
     "shell.execute_reply": "2020-07-06T18:51:41.238047Z",
     "shell.execute_reply.started": "2020-07-06T18:51:41.235298Z"
    }
   },
   "outputs": [],
   "source": [
    "@dataclass\n",
    "class GenericData:\n",
    "    pass\n",
    "\n",
    "\n",
    "@dataclass\n",
    "class GraphData:\n",
    "#     g: Graph\n",
    "    n: GenericData = GenericData()\n",
    "    r: GenericData = GenericData()\n",
    "\n"
   ]
  },
  {
   "cell_type": "code",
   "execution_count": null,
   "metadata": {},
   "outputs": [],
   "source": []
  }
 ],
 "metadata": {
  "jupytext": {
   "cell_metadata_filter": "-all",
   "notebook_metadata_filter": "-all"
  },
  "kernelspec": {
   "display_name": "Python 3.8.3 64-bit ('enrichments': conda)",
   "language": "python",
   "name": "python38364bitenrichmentsconda572bd93610644c33915867a6f18c20cb"
  },
  "language_info": {
   "codemirror_mode": {
    "name": "ipython",
    "version": 3
   },
   "file_extension": ".py",
   "mimetype": "text/x-python",
   "name": "python",
   "nbconvert_exporter": "python",
   "pygments_lexer": "ipython3",
   "version": "3.8.3"
  }
 },
 "nbformat": 4,
 "nbformat_minor": 4
}
